{
 "cells": [
  {
   "cell_type": "code",
   "execution_count": null,
   "id": "e3eb5318",
   "metadata": {
    "vscode": {
     "languageId": "plaintext"
    }
   },
   "outputs": [],
   "source": [
    "import pandas as pd\n",
    "\n",
    "# Load dataset\n",
    "df = pd.read_csv('../data/healthcare_data.csv')\n",
    "\n",
    "# Check first 5 records\n",
    "df.head()\n",
    "\n",
    "# Data types and null values\n",
    "df.info()\n",
    "\n",
    "# Summary statistics\n",
    "df.describe()\n",
    "\n",
    "# Check unique countries\n",
    "df['location'].unique()\n",
    "\n",
    "# Check date range\n",
    "df['date'].min(), df['date'].max()\n"
   ]
  }
 ],
 "metadata": {
  "language_info": {
   "name": "python"
  }
 },
 "nbformat": 4,
 "nbformat_minor": 5
}
